{
 "cells": [
  {
   "cell_type": "code",
   "execution_count": 1,
   "id": "d8acd2a3",
   "metadata": {
    "execution": {
     "iopub.execute_input": "2022-07-11T11:13:47.594568Z",
     "iopub.status.busy": "2022-07-11T11:13:47.594069Z",
     "iopub.status.idle": "2022-07-11T11:13:48.865730Z",
     "shell.execute_reply": "2022-07-11T11:13:48.864695Z"
    },
    "papermill": {
     "duration": 1.288031,
     "end_time": "2022-07-11T11:13:48.869157",
     "exception": false,
     "start_time": "2022-07-11T11:13:47.581126",
     "status": "completed"
    },
    "tags": []
   },
   "outputs": [],
   "source": [
    "import pandas as pd\n",
    "import numpy as np\n",
    "from sklearn.linear_model import LogisticRegression"
   ]
  },
  {
   "cell_type": "code",
   "execution_count": 2,
   "id": "6ae50bcd",
   "metadata": {
    "execution": {
     "iopub.execute_input": "2022-07-11T11:13:48.892552Z",
     "iopub.status.busy": "2022-07-11T11:13:48.892182Z",
     "iopub.status.idle": "2022-07-11T11:14:07.467514Z",
     "shell.execute_reply": "2022-07-11T11:14:07.466675Z"
    },
    "papermill": {
     "duration": 18.589842,
     "end_time": "2022-07-11T11:14:07.469966",
     "exception": false,
     "start_time": "2022-07-11T11:13:48.880124",
     "status": "completed"
    },
    "tags": []
   },
   "outputs": [],
   "source": [
    "df_train = pd.read_parquet(\"../input/amex-data-integer-dtypes-parquet-format/train.parquet\")"
   ]
  },
  {
   "cell_type": "code",
   "execution_count": 3,
   "id": "196fc537",
   "metadata": {
    "execution": {
     "iopub.execute_input": "2022-07-11T11:14:07.496829Z",
     "iopub.status.busy": "2022-07-11T11:14:07.496376Z",
     "iopub.status.idle": "2022-07-11T11:14:09.598203Z",
     "shell.execute_reply": "2022-07-11T11:14:09.597165Z"
    },
    "papermill": {
     "duration": 2.119948,
     "end_time": "2022-07-11T11:14:09.600822",
     "exception": false,
     "start_time": "2022-07-11T11:14:07.480874",
     "status": "completed"
    },
    "tags": []
   },
   "outputs": [],
   "source": [
    "Na = df_train.isna().sum()*100/(df_train.shape[0])\n"
   ]
  },
  {
   "cell_type": "code",
   "execution_count": 4,
   "id": "e55cbd5a",
   "metadata": {
    "execution": {
     "iopub.execute_input": "2022-07-11T11:14:09.623049Z",
     "iopub.status.busy": "2022-07-11T11:14:09.622687Z",
     "iopub.status.idle": "2022-07-11T11:14:09.627593Z",
     "shell.execute_reply": "2022-07-11T11:14:09.626614Z"
    },
    "papermill": {
     "duration": 0.01837,
     "end_time": "2022-07-11T11:14:09.629673",
     "exception": false,
     "start_time": "2022-07-11T11:14:09.611303",
     "status": "completed"
    },
    "tags": []
   },
   "outputs": [],
   "source": [
    "Na_cols = Na.sort_values(ascending = False).head(25).index"
   ]
  },
  {
   "cell_type": "code",
   "execution_count": 5,
   "id": "4add85f9",
   "metadata": {
    "execution": {
     "iopub.execute_input": "2022-07-11T11:14:09.652319Z",
     "iopub.status.busy": "2022-07-11T11:14:09.651894Z",
     "iopub.status.idle": "2022-07-11T11:14:10.404064Z",
     "shell.execute_reply": "2022-07-11T11:14:10.402438Z"
    },
    "papermill": {
     "duration": 0.766804,
     "end_time": "2022-07-11T11:14:10.406817",
     "exception": false,
     "start_time": "2022-07-11T11:14:09.640013",
     "status": "completed"
    },
    "tags": []
   },
   "outputs": [],
   "source": [
    "df_train.drop(columns = Na_cols, inplace = True)"
   ]
  },
  {
   "cell_type": "code",
   "execution_count": 6,
   "id": "b5ddf132",
   "metadata": {
    "execution": {
     "iopub.execute_input": "2022-07-11T11:14:10.429932Z",
     "iopub.status.busy": "2022-07-11T11:14:10.429501Z",
     "iopub.status.idle": "2022-07-11T11:14:10.435089Z",
     "shell.execute_reply": "2022-07-11T11:14:10.433755Z"
    },
    "papermill": {
     "duration": 0.019576,
     "end_time": "2022-07-11T11:14:10.437182",
     "exception": false,
     "start_time": "2022-07-11T11:14:10.417606",
     "status": "completed"
    },
    "tags": []
   },
   "outputs": [],
   "source": [
    "del Na"
   ]
  },
  {
   "cell_type": "code",
   "execution_count": 7,
   "id": "60ab7d7d",
   "metadata": {
    "execution": {
     "iopub.execute_input": "2022-07-11T11:14:10.460861Z",
     "iopub.status.busy": "2022-07-11T11:14:10.460303Z",
     "iopub.status.idle": "2022-07-11T11:14:10.465200Z",
     "shell.execute_reply": "2022-07-11T11:14:10.464412Z"
    },
    "papermill": {
     "duration": 0.019775,
     "end_time": "2022-07-11T11:14:10.467556",
     "exception": false,
     "start_time": "2022-07-11T11:14:10.447781",
     "status": "completed"
    },
    "tags": []
   },
   "outputs": [],
   "source": [
    "cat_col = ['B_30', 'B_38', 'D_114', 'D_116', 'D_117', 'D_120', 'D_126', 'D_63', 'D_64', 'D_66', 'D_68']"
   ]
  },
  {
   "cell_type": "code",
   "execution_count": 8,
   "id": "da7a2314",
   "metadata": {
    "execution": {
     "iopub.execute_input": "2022-07-11T11:14:10.491621Z",
     "iopub.status.busy": "2022-07-11T11:14:10.490963Z",
     "iopub.status.idle": "2022-07-11T11:14:11.802808Z",
     "shell.execute_reply": "2022-07-11T11:14:11.801682Z"
    },
    "papermill": {
     "duration": 1.326891,
     "end_time": "2022-07-11T11:14:11.805572",
     "exception": false,
     "start_time": "2022-07-11T11:14:10.478681",
     "status": "completed"
    },
    "tags": []
   },
   "outputs": [],
   "source": [
    "y = pd.read_csv(\"../input/amex-default-prediction/train_labels.csv\")"
   ]
  },
  {
   "cell_type": "code",
   "execution_count": 9,
   "id": "07f1a4fb",
   "metadata": {
    "execution": {
     "iopub.execute_input": "2022-07-11T11:14:11.829468Z",
     "iopub.status.busy": "2022-07-11T11:14:11.828479Z",
     "iopub.status.idle": "2022-07-11T11:14:11.844449Z",
     "shell.execute_reply": "2022-07-11T11:14:11.843719Z"
    },
    "papermill": {
     "duration": 0.030563,
     "end_time": "2022-07-11T11:14:11.846867",
     "exception": false,
     "start_time": "2022-07-11T11:14:11.816304",
     "status": "completed"
    },
    "tags": []
   },
   "outputs": [
    {
     "data": {
      "text/html": [
       "<div>\n",
       "<style scoped>\n",
       "    .dataframe tbody tr th:only-of-type {\n",
       "        vertical-align: middle;\n",
       "    }\n",
       "\n",
       "    .dataframe tbody tr th {\n",
       "        vertical-align: top;\n",
       "    }\n",
       "\n",
       "    .dataframe thead th {\n",
       "        text-align: right;\n",
       "    }\n",
       "</style>\n",
       "<table border=\"1\" class=\"dataframe\">\n",
       "  <thead>\n",
       "    <tr style=\"text-align: right;\">\n",
       "      <th></th>\n",
       "      <th>customer_ID</th>\n",
       "      <th>target</th>\n",
       "    </tr>\n",
       "  </thead>\n",
       "  <tbody>\n",
       "    <tr>\n",
       "      <th>0</th>\n",
       "      <td>0000099d6bd597052cdcda90ffabf56573fe9d7c79be5f...</td>\n",
       "      <td>0</td>\n",
       "    </tr>\n",
       "    <tr>\n",
       "      <th>1</th>\n",
       "      <td>00000fd6641609c6ece5454664794f0340ad84dddce9a2...</td>\n",
       "      <td>0</td>\n",
       "    </tr>\n",
       "    <tr>\n",
       "      <th>2</th>\n",
       "      <td>00001b22f846c82c51f6e3958ccd81970162bae8b007e8...</td>\n",
       "      <td>0</td>\n",
       "    </tr>\n",
       "    <tr>\n",
       "      <th>3</th>\n",
       "      <td>000041bdba6ecadd89a52d11886e8eaaec9325906c9723...</td>\n",
       "      <td>0</td>\n",
       "    </tr>\n",
       "    <tr>\n",
       "      <th>4</th>\n",
       "      <td>00007889e4fcd2614b6cbe7f8f3d2e5c728eca32d9eb8a...</td>\n",
       "      <td>0</td>\n",
       "    </tr>\n",
       "  </tbody>\n",
       "</table>\n",
       "</div>"
      ],
      "text/plain": [
       "                                         customer_ID  target\n",
       "0  0000099d6bd597052cdcda90ffabf56573fe9d7c79be5f...       0\n",
       "1  00000fd6641609c6ece5454664794f0340ad84dddce9a2...       0\n",
       "2  00001b22f846c82c51f6e3958ccd81970162bae8b007e8...       0\n",
       "3  000041bdba6ecadd89a52d11886e8eaaec9325906c9723...       0\n",
       "4  00007889e4fcd2614b6cbe7f8f3d2e5c728eca32d9eb8a...       0"
      ]
     },
     "execution_count": 9,
     "metadata": {},
     "output_type": "execute_result"
    }
   ],
   "source": [
    "y.head()"
   ]
  },
  {
   "cell_type": "code",
   "execution_count": 10,
   "id": "5e62dacd",
   "metadata": {
    "execution": {
     "iopub.execute_input": "2022-07-11T11:14:11.870044Z",
     "iopub.status.busy": "2022-07-11T11:14:11.869223Z",
     "iopub.status.idle": "2022-07-11T11:15:39.520996Z",
     "shell.execute_reply": "2022-07-11T11:15:39.519803Z"
    },
    "papermill": {
     "duration": 87.66604,
     "end_time": "2022-07-11T11:15:39.523519",
     "exception": false,
     "start_time": "2022-07-11T11:14:11.857479",
     "status": "completed"
    },
    "tags": []
   },
   "outputs": [],
   "source": [
    "df_train = pd.merge(df_train, y, on = \"customer_ID\")"
   ]
  },
  {
   "cell_type": "code",
   "execution_count": 11,
   "id": "54d48bef",
   "metadata": {
    "execution": {
     "iopub.execute_input": "2022-07-11T11:15:39.538360Z",
     "iopub.status.busy": "2022-07-11T11:15:39.538019Z",
     "iopub.status.idle": "2022-07-11T11:15:42.464658Z",
     "shell.execute_reply": "2022-07-11T11:15:42.463507Z"
    },
    "papermill": {
     "duration": 2.936981,
     "end_time": "2022-07-11T11:15:42.467389",
     "exception": false,
     "start_time": "2022-07-11T11:15:39.530408",
     "status": "completed"
    },
    "tags": []
   },
   "outputs": [],
   "source": [
    "df_train = df_train.groupby(\"customer_ID\").head(2)"
   ]
  },
  {
   "cell_type": "code",
   "execution_count": 12,
   "id": "8898d785",
   "metadata": {
    "execution": {
     "iopub.execute_input": "2022-07-11T11:15:42.490798Z",
     "iopub.status.busy": "2022-07-11T11:15:42.490438Z",
     "iopub.status.idle": "2022-07-11T11:15:42.846059Z",
     "shell.execute_reply": "2022-07-11T11:15:42.845080Z"
    },
    "papermill": {
     "duration": 0.370468,
     "end_time": "2022-07-11T11:15:42.848578",
     "exception": false,
     "start_time": "2022-07-11T11:15:42.478110",
     "status": "completed"
    },
    "tags": []
   },
   "outputs": [],
   "source": [
    "df_train = df_train.fillna(method = \"ffill\")"
   ]
  },
  {
   "cell_type": "code",
   "execution_count": 13,
   "id": "e57765ed",
   "metadata": {
    "execution": {
     "iopub.execute_input": "2022-07-11T11:15:42.871569Z",
     "iopub.status.busy": "2022-07-11T11:15:42.871212Z",
     "iopub.status.idle": "2022-07-11T11:15:42.876876Z",
     "shell.execute_reply": "2022-07-11T11:15:42.875944Z"
    },
    "papermill": {
     "duration": 0.019729,
     "end_time": "2022-07-11T11:15:42.879059",
     "exception": false,
     "start_time": "2022-07-11T11:15:42.859330",
     "status": "completed"
    },
    "tags": []
   },
   "outputs": [],
   "source": [
    "df_date = df_train.pop(\"S_2\")\n",
    "del df_date"
   ]
  },
  {
   "cell_type": "code",
   "execution_count": 14,
   "id": "b19928f9",
   "metadata": {
    "execution": {
     "iopub.execute_input": "2022-07-11T11:15:42.901998Z",
     "iopub.status.busy": "2022-07-11T11:15:42.901624Z",
     "iopub.status.idle": "2022-07-11T11:15:43.331425Z",
     "shell.execute_reply": "2022-07-11T11:15:43.330229Z"
    },
    "papermill": {
     "duration": 0.444138,
     "end_time": "2022-07-11T11:15:43.333858",
     "exception": false,
     "start_time": "2022-07-11T11:15:42.889720",
     "status": "completed"
    },
    "tags": []
   },
   "outputs": [],
   "source": [
    "df_train = df_train.set_index(\"customer_ID\", drop = True).sort_index()"
   ]
  },
  {
   "cell_type": "code",
   "execution_count": 15,
   "id": "44b24eb7",
   "metadata": {
    "execution": {
     "iopub.execute_input": "2022-07-11T11:15:43.356177Z",
     "iopub.status.busy": "2022-07-11T11:15:43.355852Z",
     "iopub.status.idle": "2022-07-11T11:15:43.361998Z",
     "shell.execute_reply": "2022-07-11T11:15:43.360942Z"
    },
    "papermill": {
     "duration": 0.019677,
     "end_time": "2022-07-11T11:15:43.364029",
     "exception": false,
     "start_time": "2022-07-11T11:15:43.344352",
     "status": "completed"
    },
    "tags": []
   },
   "outputs": [],
   "source": [
    "y = df_train.pop(\"target\")"
   ]
  },
  {
   "cell_type": "code",
   "execution_count": 16,
   "id": "fea609da",
   "metadata": {
    "execution": {
     "iopub.execute_input": "2022-07-11T11:15:43.387547Z",
     "iopub.status.busy": "2022-07-11T11:15:43.387178Z",
     "iopub.status.idle": "2022-07-11T11:15:43.392344Z",
     "shell.execute_reply": "2022-07-11T11:15:43.390784Z"
    },
    "papermill": {
     "duration": 0.019437,
     "end_time": "2022-07-11T11:15:43.394294",
     "exception": false,
     "start_time": "2022-07-11T11:15:43.374857",
     "status": "completed"
    },
    "tags": []
   },
   "outputs": [],
   "source": [
    "features = list(set(df_train.columns) - set(cat_col)) "
   ]
  },
  {
   "cell_type": "code",
   "execution_count": 17,
   "id": "366026f6",
   "metadata": {
    "execution": {
     "iopub.execute_input": "2022-07-11T11:15:43.416951Z",
     "iopub.status.busy": "2022-07-11T11:15:43.416544Z",
     "iopub.status.idle": "2022-07-11T11:15:43.604294Z",
     "shell.execute_reply": "2022-07-11T11:15:43.603193Z"
    },
    "papermill": {
     "duration": 0.201902,
     "end_time": "2022-07-11T11:15:43.606666",
     "exception": false,
     "start_time": "2022-07-11T11:15:43.404764",
     "status": "completed"
    },
    "tags": []
   },
   "outputs": [],
   "source": [
    "X = df_train[features]"
   ]
  },
  {
   "cell_type": "code",
   "execution_count": 18,
   "id": "bb851761",
   "metadata": {
    "execution": {
     "iopub.execute_input": "2022-07-11T11:15:43.629097Z",
     "iopub.status.busy": "2022-07-11T11:15:43.628721Z",
     "iopub.status.idle": "2022-07-11T11:15:43.635866Z",
     "shell.execute_reply": "2022-07-11T11:15:43.634740Z"
    },
    "papermill": {
     "duration": 0.020781,
     "end_time": "2022-07-11T11:15:43.638028",
     "exception": false,
     "start_time": "2022-07-11T11:15:43.617247",
     "status": "completed"
    },
    "tags": []
   },
   "outputs": [],
   "source": [
    "del df_train"
   ]
  },
  {
   "cell_type": "code",
   "execution_count": 19,
   "id": "d42ebdfb",
   "metadata": {
    "execution": {
     "iopub.execute_input": "2022-07-11T11:15:43.660960Z",
     "iopub.status.busy": "2022-07-11T11:15:43.660647Z",
     "iopub.status.idle": "2022-07-11T11:15:43.665872Z",
     "shell.execute_reply": "2022-07-11T11:15:43.664118Z"
    },
    "papermill": {
     "duration": 0.019397,
     "end_time": "2022-07-11T11:15:43.668429",
     "exception": false,
     "start_time": "2022-07-11T11:15:43.649032",
     "status": "completed"
    },
    "tags": []
   },
   "outputs": [],
   "source": [
    "#model = LogisticRegression()\n",
    "#model.fit(X,y)\n",
    "#model.score(X,y)"
   ]
  },
  {
   "cell_type": "code",
   "execution_count": 20,
   "id": "4594aafa",
   "metadata": {
    "execution": {
     "iopub.execute_input": "2022-07-11T11:15:43.690577Z",
     "iopub.status.busy": "2022-07-11T11:15:43.690299Z",
     "iopub.status.idle": "2022-07-11T11:15:43.694339Z",
     "shell.execute_reply": "2022-07-11T11:15:43.693327Z"
    },
    "papermill": {
     "duration": 0.01746,
     "end_time": "2022-07-11T11:15:43.696295",
     "exception": false,
     "start_time": "2022-07-11T11:15:43.678835",
     "status": "completed"
    },
    "tags": []
   },
   "outputs": [],
   "source": [
    "#import statsmodels.api as sm\n",
    "#model = sm.Logit(y, X).fit()\n",
    "#print(model.summary())"
   ]
  },
  {
   "cell_type": "code",
   "execution_count": 21,
   "id": "de59834f",
   "metadata": {
    "execution": {
     "iopub.execute_input": "2022-07-11T11:15:43.718989Z",
     "iopub.status.busy": "2022-07-11T11:15:43.718673Z",
     "iopub.status.idle": "2022-07-11T11:15:43.724043Z",
     "shell.execute_reply": "2022-07-11T11:15:43.722891Z"
    },
    "papermill": {
     "duration": 0.019491,
     "end_time": "2022-07-11T11:15:43.726196",
     "exception": false,
     "start_time": "2022-07-11T11:15:43.706705",
     "status": "completed"
    },
    "tags": []
   },
   "outputs": [],
   "source": [
    "nonsig_cols = [\"D_65\", \"S_23\", \"D_135\", \"S_24\", \"B_26\", \"D_143\", \"B_40\", \"D_141\", \"B_19\",\n",
    "              \"S_22\", \"D_137\", \"R_7\", \"D_71\", \"B_2\", \"B_27\", \"D_69\", \"R_20\", \"D_83\", \"D_75\",\n",
    "              \"B_36\", \"R_25\", \"D_139\", \"R_28\", \"R_10\", \"R_24\", \"D_119\", \"R_4\", \"B_10\"]"
   ]
  },
  {
   "cell_type": "code",
   "execution_count": 22,
   "id": "d913827d",
   "metadata": {
    "execution": {
     "iopub.execute_input": "2022-07-11T11:15:43.748636Z",
     "iopub.status.busy": "2022-07-11T11:15:43.748264Z",
     "iopub.status.idle": "2022-07-11T11:15:43.753662Z",
     "shell.execute_reply": "2022-07-11T11:15:43.752426Z"
    },
    "papermill": {
     "duration": 0.019181,
     "end_time": "2022-07-11T11:15:43.755889",
     "exception": false,
     "start_time": "2022-07-11T11:15:43.736708",
     "status": "completed"
    },
    "tags": []
   },
   "outputs": [],
   "source": [
    "sig_cols = list(set(X.columns) - set(nonsig_cols))"
   ]
  },
  {
   "cell_type": "code",
   "execution_count": 23,
   "id": "32177dd3",
   "metadata": {
    "execution": {
     "iopub.execute_input": "2022-07-11T11:15:43.778821Z",
     "iopub.status.busy": "2022-07-11T11:15:43.778515Z",
     "iopub.status.idle": "2022-07-11T11:16:10.469092Z",
     "shell.execute_reply": "2022-07-11T11:16:10.468317Z"
    },
    "papermill": {
     "duration": 26.704603,
     "end_time": "2022-07-11T11:16:10.471290",
     "exception": false,
     "start_time": "2022-07-11T11:15:43.766687",
     "status": "completed"
    },
    "tags": []
   },
   "outputs": [
    {
     "name": "stderr",
     "output_type": "stream",
     "text": [
      "/opt/conda/lib/python3.7/site-packages/sklearn/linear_model/_logistic.py:818: ConvergenceWarning: lbfgs failed to converge (status=1):\n",
      "STOP: TOTAL NO. of ITERATIONS REACHED LIMIT.\n",
      "\n",
      "Increase the number of iterations (max_iter) or scale the data as shown in:\n",
      "    https://scikit-learn.org/stable/modules/preprocessing.html\n",
      "Please also refer to the documentation for alternative solver options:\n",
      "    https://scikit-learn.org/stable/modules/linear_model.html#logistic-regression\n",
      "  extra_warning_msg=_LOGISTIC_SOLVER_CONVERGENCE_MSG,\n"
     ]
    },
    {
     "data": {
      "text/plain": [
       "0.8137658786071309"
      ]
     },
     "execution_count": 23,
     "metadata": {},
     "output_type": "execute_result"
    }
   ],
   "source": [
    "X = X[sig_cols]\n",
    "model = LogisticRegression()\n",
    "model.fit(X,y)\n",
    "model.score(X,y)"
   ]
  },
  {
   "cell_type": "code",
   "execution_count": 24,
   "id": "6325133e",
   "metadata": {
    "execution": {
     "iopub.execute_input": "2022-07-11T11:16:10.495462Z",
     "iopub.status.busy": "2022-07-11T11:16:10.494805Z",
     "iopub.status.idle": "2022-07-11T11:16:10.522619Z",
     "shell.execute_reply": "2022-07-11T11:16:10.521305Z"
    },
    "papermill": {
     "duration": 0.04317,
     "end_time": "2022-07-11T11:16:10.525316",
     "exception": false,
     "start_time": "2022-07-11T11:16:10.482146",
     "status": "completed"
    },
    "tags": []
   },
   "outputs": [],
   "source": [
    "del X\n",
    "del y"
   ]
  },
  {
   "cell_type": "code",
   "execution_count": 25,
   "id": "1f7dcc35",
   "metadata": {
    "execution": {
     "iopub.execute_input": "2022-07-11T11:16:10.548540Z",
     "iopub.status.busy": "2022-07-11T11:16:10.548207Z",
     "iopub.status.idle": "2022-07-11T11:16:49.554997Z",
     "shell.execute_reply": "2022-07-11T11:16:49.553949Z"
    },
    "papermill": {
     "duration": 39.021365,
     "end_time": "2022-07-11T11:16:49.557618",
     "exception": false,
     "start_time": "2022-07-11T11:16:10.536253",
     "status": "completed"
    },
    "tags": []
   },
   "outputs": [],
   "source": [
    "test_df = (pd.read_parquet(\"../input/amex-data-integer-dtypes-parquet-format/test.parquet\")\n",
    "            .groupby(\"customer_ID\")\n",
    "           .tail(1)\n",
    "           .fillna(method = \"ffill\")\n",
    "           .set_index(\"customer_ID\", drop = True)\n",
    "           .sort_index())"
   ]
  },
  {
   "cell_type": "code",
   "execution_count": 26,
   "id": "40913c4d",
   "metadata": {
    "execution": {
     "iopub.execute_input": "2022-07-11T11:16:49.581754Z",
     "iopub.status.busy": "2022-07-11T11:16:49.581376Z",
     "iopub.status.idle": "2022-07-11T11:16:49.681464Z",
     "shell.execute_reply": "2022-07-11T11:16:49.680362Z"
    },
    "papermill": {
     "duration": 0.115094,
     "end_time": "2022-07-11T11:16:49.683798",
     "exception": false,
     "start_time": "2022-07-11T11:16:49.568704",
     "status": "completed"
    },
    "tags": []
   },
   "outputs": [],
   "source": [
    "test_df = test_df[sig_cols]"
   ]
  },
  {
   "cell_type": "code",
   "execution_count": 27,
   "id": "917d1756",
   "metadata": {
    "execution": {
     "iopub.execute_input": "2022-07-11T11:16:49.707806Z",
     "iopub.status.busy": "2022-07-11T11:16:49.706916Z",
     "iopub.status.idle": "2022-07-11T11:16:50.119737Z",
     "shell.execute_reply": "2022-07-11T11:16:50.117813Z"
    },
    "papermill": {
     "duration": 0.427569,
     "end_time": "2022-07-11T11:16:50.122226",
     "exception": false,
     "start_time": "2022-07-11T11:16:49.694657",
     "status": "completed"
    },
    "tags": []
   },
   "outputs": [],
   "source": [
    "y_pred = model.predict_proba(test_df)"
   ]
  },
  {
   "cell_type": "code",
   "execution_count": 28,
   "id": "61fb40b2",
   "metadata": {
    "execution": {
     "iopub.execute_input": "2022-07-11T11:16:50.142466Z",
     "iopub.status.busy": "2022-07-11T11:16:50.141592Z",
     "iopub.status.idle": "2022-07-11T11:16:50.185331Z",
     "shell.execute_reply": "2022-07-11T11:16:50.184460Z"
    },
    "papermill": {
     "duration": 0.055872,
     "end_time": "2022-07-11T11:16:50.187149",
     "exception": false,
     "start_time": "2022-07-11T11:16:50.131277",
     "status": "completed"
    },
    "tags": []
   },
   "outputs": [],
   "source": [
    "del test_df"
   ]
  },
  {
   "cell_type": "code",
   "execution_count": 29,
   "id": "b60a6199",
   "metadata": {
    "execution": {
     "iopub.execute_input": "2022-07-11T11:16:50.202332Z",
     "iopub.status.busy": "2022-07-11T11:16:50.201774Z",
     "iopub.status.idle": "2022-07-11T11:16:50.206080Z",
     "shell.execute_reply": "2022-07-11T11:16:50.204638Z"
    },
    "papermill": {
     "duration": 0.013725,
     "end_time": "2022-07-11T11:16:50.207715",
     "exception": false,
     "start_time": "2022-07-11T11:16:50.193990",
     "status": "completed"
    },
    "tags": []
   },
   "outputs": [],
   "source": [
    "#y_pred"
   ]
  },
  {
   "cell_type": "code",
   "execution_count": 30,
   "id": "626f4956",
   "metadata": {
    "execution": {
     "iopub.execute_input": "2022-07-11T11:16:50.223077Z",
     "iopub.status.busy": "2022-07-11T11:16:50.222698Z",
     "iopub.status.idle": "2022-07-11T11:16:52.428480Z",
     "shell.execute_reply": "2022-07-11T11:16:52.427358Z"
    },
    "papermill": {
     "duration": 2.216477,
     "end_time": "2022-07-11T11:16:52.431000",
     "exception": false,
     "start_time": "2022-07-11T11:16:50.214523",
     "status": "completed"
    },
    "tags": []
   },
   "outputs": [],
   "source": [
    "sub = pd.read_csv(\"../input/amex-default-prediction/sample_submission.csv\")"
   ]
  },
  {
   "cell_type": "code",
   "execution_count": 31,
   "id": "b8c0c777",
   "metadata": {
    "execution": {
     "iopub.execute_input": "2022-07-11T11:16:52.454498Z",
     "iopub.status.busy": "2022-07-11T11:16:52.453842Z",
     "iopub.status.idle": "2022-07-11T11:16:53.507598Z",
     "shell.execute_reply": "2022-07-11T11:16:53.506285Z"
    },
    "papermill": {
     "duration": 1.068743,
     "end_time": "2022-07-11T11:16:53.510561",
     "exception": false,
     "start_time": "2022-07-11T11:16:52.441818",
     "status": "completed"
    },
    "tags": []
   },
   "outputs": [],
   "source": [
    "sub = sub.sort_values(\"customer_ID\")"
   ]
  },
  {
   "cell_type": "code",
   "execution_count": 32,
   "id": "afd446e3",
   "metadata": {
    "execution": {
     "iopub.execute_input": "2022-07-11T11:16:53.535015Z",
     "iopub.status.busy": "2022-07-11T11:16:53.534604Z",
     "iopub.status.idle": "2022-07-11T11:16:53.541099Z",
     "shell.execute_reply": "2022-07-11T11:16:53.539935Z"
    },
    "papermill": {
     "duration": 0.021807,
     "end_time": "2022-07-11T11:16:53.543985",
     "exception": false,
     "start_time": "2022-07-11T11:16:53.522178",
     "status": "completed"
    },
    "tags": []
   },
   "outputs": [],
   "source": [
    "sub[\"prediction\"] = y_pred[:, 1]"
   ]
  },
  {
   "cell_type": "code",
   "execution_count": 33,
   "id": "27b25cc8",
   "metadata": {
    "execution": {
     "iopub.execute_input": "2022-07-11T11:16:53.568012Z",
     "iopub.status.busy": "2022-07-11T11:16:53.567635Z",
     "iopub.status.idle": "2022-07-11T11:16:57.885594Z",
     "shell.execute_reply": "2022-07-11T11:16:57.884132Z"
    },
    "papermill": {
     "duration": 4.333313,
     "end_time": "2022-07-11T11:16:57.888150",
     "exception": false,
     "start_time": "2022-07-11T11:16:53.554837",
     "status": "completed"
    },
    "tags": []
   },
   "outputs": [],
   "source": [
    "sub.to_csv(\"submission.csv\", index = False)"
   ]
  }
 ],
 "metadata": {
  "kernelspec": {
   "display_name": "Python 3",
   "language": "python",
   "name": "python3"
  },
  "language_info": {
   "codemirror_mode": {
    "name": "ipython",
    "version": 3
   },
   "file_extension": ".py",
   "mimetype": "text/x-python",
   "name": "python",
   "nbconvert_exporter": "python",
   "pygments_lexer": "ipython3",
   "version": "3.7.12"
  },
  "papermill": {
   "default_parameters": {},
   "duration": 202.020207,
   "end_time": "2022-07-11T11:16:59.022985",
   "environment_variables": {},
   "exception": null,
   "input_path": "__notebook__.ipynb",
   "output_path": "__notebook__.ipynb",
   "parameters": {},
   "start_time": "2022-07-11T11:13:37.002778",
   "version": "2.3.4"
  }
 },
 "nbformat": 4,
 "nbformat_minor": 5
}
