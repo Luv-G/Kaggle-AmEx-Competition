{
 "cells": [
  {
   "cell_type": "code",
   "execution_count": 1,
   "id": "9971f415",
   "metadata": {
    "execution": {
     "iopub.execute_input": "2022-07-27T12:58:00.638684Z",
     "iopub.status.busy": "2022-07-27T12:58:00.637647Z",
     "iopub.status.idle": "2022-07-27T12:58:01.894502Z",
     "shell.execute_reply": "2022-07-27T12:58:01.893536Z"
    },
    "papermill": {
     "duration": 1.265398,
     "end_time": "2022-07-27T12:58:01.897311",
     "exception": false,
     "start_time": "2022-07-27T12:58:00.631913",
     "status": "completed"
    },
    "tags": []
   },
   "outputs": [],
   "source": [
    "import pandas as pd\n",
    "import numpy as np\n",
    "from sklearn.linear_model import LogisticRegressionCV\n",
    "from sklearn.decomposition import PCA"
   ]
  },
  {
   "cell_type": "code",
   "execution_count": 2,
   "id": "cd6623e8",
   "metadata": {
    "execution": {
     "iopub.execute_input": "2022-07-27T12:58:01.905136Z",
     "iopub.status.busy": "2022-07-27T12:58:01.904127Z",
     "iopub.status.idle": "2022-07-27T12:58:20.339023Z",
     "shell.execute_reply": "2022-07-27T12:58:20.338139Z"
    },
    "papermill": {
     "duration": 18.441486,
     "end_time": "2022-07-27T12:58:20.341774",
     "exception": false,
     "start_time": "2022-07-27T12:58:01.900288",
     "status": "completed"
    },
    "tags": []
   },
   "outputs": [],
   "source": [
    "df_train = pd.read_parquet(\"../input/amex-data-integer-dtypes-parquet-format/train.parquet\")"
   ]
  },
  {
   "cell_type": "code",
   "execution_count": 3,
   "id": "1c4c0526",
   "metadata": {
    "execution": {
     "iopub.execute_input": "2022-07-27T12:58:20.349666Z",
     "iopub.status.busy": "2022-07-27T12:58:20.348916Z",
     "iopub.status.idle": "2022-07-27T12:58:20.355063Z",
     "shell.execute_reply": "2022-07-27T12:58:20.354233Z"
    },
    "papermill": {
     "duration": 0.012707,
     "end_time": "2022-07-27T12:58:20.357349",
     "exception": false,
     "start_time": "2022-07-27T12:58:20.344642",
     "status": "completed"
    },
    "tags": []
   },
   "outputs": [],
   "source": [
    "cat_col = ['B_30', 'B_38', 'D_114', 'D_116', 'D_117', 'D_120', 'D_126', 'D_63', 'D_64', 'D_66', 'D_68']\n",
    "nonsig_cols = [\"D_65\", \"S_23\", \"D_135\", \"S_24\", \"B_26\", \"D_143\", \"B_40\", \"D_141\", \"B_19\",\n",
    "              \"S_22\", \"D_137\", \"R_7\", \"D_71\", \"B_2\", \"B_27\", \"D_69\", \"R_20\", \"D_83\", \"D_75\",\n",
    "              \"B_36\", \"R_25\", \"D_139\", \"R_28\", \"R_10\", \"R_24\", \"D_119\", \"R_4\", \"B_10\"]"
   ]
  },
  {
   "cell_type": "code",
   "execution_count": 4,
   "id": "e5925d64",
   "metadata": {
    "execution": {
     "iopub.execute_input": "2022-07-27T12:58:20.366415Z",
     "iopub.status.busy": "2022-07-27T12:58:20.365078Z",
     "iopub.status.idle": "2022-07-27T12:59:54.606742Z",
     "shell.execute_reply": "2022-07-27T12:59:54.605626Z"
    },
    "papermill": {
     "duration": 94.249441,
     "end_time": "2022-07-27T12:59:54.609606",
     "exception": false,
     "start_time": "2022-07-27T12:58:20.360165",
     "status": "completed"
    },
    "tags": []
   },
   "outputs": [],
   "source": [
    "y = pd.read_csv(\"../input/amex-default-prediction/train_labels.csv\")\n",
    "df_train = pd.merge(df_train, y, on = \"customer_ID\")\n",
    "df_train = df_train.groupby(\"customer_ID\").head(1)\n",
    "df_date = df_train.pop(\"S_2\")\n",
    "del df_date\n",
    "df_train = df_train.set_index(\"customer_ID\", drop = True).sort_index()\n"
   ]
  },
  {
   "cell_type": "code",
   "execution_count": 5,
   "id": "3798d6b9",
   "metadata": {
    "execution": {
     "iopub.execute_input": "2022-07-27T12:59:54.617336Z",
     "iopub.status.busy": "2022-07-27T12:59:54.616499Z",
     "iopub.status.idle": "2022-07-27T12:59:54.788196Z",
     "shell.execute_reply": "2022-07-27T12:59:54.787264Z"
    },
    "papermill": {
     "duration": 0.17821,
     "end_time": "2022-07-27T12:59:54.790754",
     "exception": false,
     "start_time": "2022-07-27T12:59:54.612544",
     "status": "completed"
    },
    "tags": []
   },
   "outputs": [],
   "source": [
    "y = df_train.pop(\"target\")\n",
    "features = list(set(df_train.columns) - set(cat_col) - set(nonsig_cols)) \n",
    "X = df_train[features]\n",
    "#cat_dummies = pd.get_dummies(df_train[cat_col])\n",
    "#X = pd.concat([X, cat_dummies], axis = \"columns\")\n",
    "#del df_train"
   ]
  },
  {
   "cell_type": "code",
   "execution_count": 6,
   "id": "36675bb4",
   "metadata": {
    "execution": {
     "iopub.execute_input": "2022-07-27T12:59:54.798529Z",
     "iopub.status.busy": "2022-07-27T12:59:54.797855Z",
     "iopub.status.idle": "2022-07-27T13:08:48.725368Z",
     "shell.execute_reply": "2022-07-27T13:08:48.724304Z"
    },
    "papermill": {
     "duration": 533.934463,
     "end_time": "2022-07-27T13:08:48.728156",
     "exception": false,
     "start_time": "2022-07-27T12:59:54.793693",
     "status": "completed"
    },
    "tags": []
   },
   "outputs": [
    {
     "name": "stderr",
     "output_type": "stream",
     "text": [
      "/opt/conda/lib/python3.7/site-packages/xgboost/sklearn.py:797: UserWarning: `eval_metric` in `fit` method is deprecated for better compatibility with scikit-learn, use `eval_metric` in constructor or`set_params` instead.\n",
      "  UserWarning,\n",
      "/opt/conda/lib/python3.7/site-packages/xgboost/sklearn.py:797: UserWarning: `early_stopping_rounds` in `fit` method is deprecated for better compatibility with scikit-learn, use `early_stopping_rounds` in constructor or`set_params` instead.\n",
      "  UserWarning,\n"
     ]
    },
    {
     "name": "stdout",
     "output_type": "stream",
     "text": [
      "[0]\tvalidation_0-aucpr:0.70443\n",
      "[1]\tvalidation_0-aucpr:0.71852\n",
      "[2]\tvalidation_0-aucpr:0.72480\n",
      "[3]\tvalidation_0-aucpr:0.73011\n",
      "[4]\tvalidation_0-aucpr:0.73493\n",
      "[5]\tvalidation_0-aucpr:0.73785\n",
      "[6]\tvalidation_0-aucpr:0.74095\n",
      "[7]\tvalidation_0-aucpr:0.74392\n",
      "[8]\tvalidation_0-aucpr:0.74632\n",
      "[9]\tvalidation_0-aucpr:0.74872\n",
      "[10]\tvalidation_0-aucpr:0.75074\n",
      "[11]\tvalidation_0-aucpr:0.75256\n",
      "[12]\tvalidation_0-aucpr:0.75435\n",
      "[13]\tvalidation_0-aucpr:0.75615\n",
      "[14]\tvalidation_0-aucpr:0.75779\n",
      "[15]\tvalidation_0-aucpr:0.75940\n",
      "[16]\tvalidation_0-aucpr:0.76103\n",
      "[17]\tvalidation_0-aucpr:0.76288\n",
      "[18]\tvalidation_0-aucpr:0.76474\n",
      "[19]\tvalidation_0-aucpr:0.76593\n",
      "[20]\tvalidation_0-aucpr:0.76771\n",
      "[21]\tvalidation_0-aucpr:0.76898\n",
      "[22]\tvalidation_0-aucpr:0.76987\n",
      "[23]\tvalidation_0-aucpr:0.77141\n",
      "[24]\tvalidation_0-aucpr:0.77278\n",
      "[25]\tvalidation_0-aucpr:0.77399\n",
      "[26]\tvalidation_0-aucpr:0.77519\n",
      "[27]\tvalidation_0-aucpr:0.77644\n",
      "[28]\tvalidation_0-aucpr:0.77778\n",
      "[29]\tvalidation_0-aucpr:0.77831\n",
      "[30]\tvalidation_0-aucpr:0.77870\n",
      "[31]\tvalidation_0-aucpr:0.77975\n",
      "[32]\tvalidation_0-aucpr:0.78066\n",
      "[33]\tvalidation_0-aucpr:0.78156\n",
      "[34]\tvalidation_0-aucpr:0.78268\n",
      "[35]\tvalidation_0-aucpr:0.78366\n",
      "[36]\tvalidation_0-aucpr:0.78433\n",
      "[37]\tvalidation_0-aucpr:0.78501\n",
      "[38]\tvalidation_0-aucpr:0.78619\n",
      "[39]\tvalidation_0-aucpr:0.78700\n",
      "[40]\tvalidation_0-aucpr:0.78744\n",
      "[41]\tvalidation_0-aucpr:0.78821\n",
      "[42]\tvalidation_0-aucpr:0.78891\n",
      "[43]\tvalidation_0-aucpr:0.78968\n",
      "[44]\tvalidation_0-aucpr:0.79019\n",
      "[45]\tvalidation_0-aucpr:0.79075\n",
      "[46]\tvalidation_0-aucpr:0.79166\n",
      "[47]\tvalidation_0-aucpr:0.79219\n",
      "[48]\tvalidation_0-aucpr:0.79274\n",
      "[49]\tvalidation_0-aucpr:0.79327\n",
      "[50]\tvalidation_0-aucpr:0.79417\n",
      "[51]\tvalidation_0-aucpr:0.79499\n",
      "[52]\tvalidation_0-aucpr:0.79591\n",
      "[53]\tvalidation_0-aucpr:0.79687\n",
      "[54]\tvalidation_0-aucpr:0.79735\n",
      "[55]\tvalidation_0-aucpr:0.79797\n",
      "[56]\tvalidation_0-aucpr:0.79841\n",
      "[57]\tvalidation_0-aucpr:0.79876\n",
      "[58]\tvalidation_0-aucpr:0.79896\n",
      "[59]\tvalidation_0-aucpr:0.79942\n",
      "[60]\tvalidation_0-aucpr:0.80015\n",
      "[61]\tvalidation_0-aucpr:0.80064\n",
      "[62]\tvalidation_0-aucpr:0.80084\n",
      "[63]\tvalidation_0-aucpr:0.80127\n",
      "[64]\tvalidation_0-aucpr:0.80205\n",
      "[65]\tvalidation_0-aucpr:0.80248\n",
      "[66]\tvalidation_0-aucpr:0.80322\n",
      "[67]\tvalidation_0-aucpr:0.80404\n",
      "[68]\tvalidation_0-aucpr:0.80468\n",
      "[69]\tvalidation_0-aucpr:0.80497\n",
      "[70]\tvalidation_0-aucpr:0.80562\n",
      "[71]\tvalidation_0-aucpr:0.80616\n",
      "[72]\tvalidation_0-aucpr:0.80645\n",
      "[73]\tvalidation_0-aucpr:0.80674\n",
      "[74]\tvalidation_0-aucpr:0.80749\n",
      "[75]\tvalidation_0-aucpr:0.80779\n",
      "[76]\tvalidation_0-aucpr:0.80854\n",
      "[77]\tvalidation_0-aucpr:0.80884\n",
      "[78]\tvalidation_0-aucpr:0.80942\n",
      "[79]\tvalidation_0-aucpr:0.80992\n",
      "[80]\tvalidation_0-aucpr:0.81071\n",
      "[81]\tvalidation_0-aucpr:0.81098\n",
      "[82]\tvalidation_0-aucpr:0.81121\n",
      "[83]\tvalidation_0-aucpr:0.81196\n",
      "[84]\tvalidation_0-aucpr:0.81269\n",
      "[85]\tvalidation_0-aucpr:0.81292\n",
      "[86]\tvalidation_0-aucpr:0.81334\n",
      "[87]\tvalidation_0-aucpr:0.81395\n",
      "[88]\tvalidation_0-aucpr:0.81417\n",
      "[89]\tvalidation_0-aucpr:0.81461\n",
      "[90]\tvalidation_0-aucpr:0.81505\n",
      "[91]\tvalidation_0-aucpr:0.81542\n",
      "[92]\tvalidation_0-aucpr:0.81584\n",
      "[93]\tvalidation_0-aucpr:0.81637\n",
      "[94]\tvalidation_0-aucpr:0.81665\n",
      "[95]\tvalidation_0-aucpr:0.81709\n",
      "[96]\tvalidation_0-aucpr:0.81730\n",
      "[97]\tvalidation_0-aucpr:0.81749\n",
      "[98]\tvalidation_0-aucpr:0.81794\n",
      "[99]\tvalidation_0-aucpr:0.81828\n"
     ]
    },
    {
     "data": {
      "text/plain": [
       "XGBClassifier(base_score=0.5, booster='gbtree', callbacks=None,\n",
       "              colsample_bylevel=1, colsample_bynode=1, colsample_bytree=1,\n",
       "              early_stopping_rounds=None, enable_categorical=False,\n",
       "              eval_metric=None, gamma=0, gpu_id=-1, grow_policy='depthwise',\n",
       "              importance_type=None, interaction_constraints='',\n",
       "              learning_rate=0.300000012, max_bin=256, max_cat_to_onehot=4,\n",
       "              max_delta_step=0, max_depth=6, max_leaves=0, min_child_weight=1,\n",
       "              missing=nan, monotone_constraints='()', n_estimators=100,\n",
       "              n_jobs=0, num_parallel_tree=1, predictor='auto', random_state=42,\n",
       "              reg_alpha=0, reg_lambda=1, ...)"
      ]
     },
     "execution_count": 6,
     "metadata": {},
     "output_type": "execute_result"
    }
   ],
   "source": [
    "import xgboost as xgb\n",
    "from sklearn.model_selection import KFold\n",
    "model = xgb.XGBClassifier(objective= \"binary:logistic\", seed = 42)\n",
    "model.fit(X, y, verbose = True, early_stopping_rounds = 20, eval_metric = \"aucpr\",\n",
    "         eval_set = [(X, y)])"
   ]
  },
  {
   "cell_type": "code",
   "execution_count": 7,
   "id": "b4af76fd",
   "metadata": {
    "execution": {
     "iopub.execute_input": "2022-07-27T13:08:48.748143Z",
     "iopub.status.busy": "2022-07-27T13:08:48.746960Z",
     "iopub.status.idle": "2022-07-27T13:09:37.798707Z",
     "shell.execute_reply": "2022-07-27T13:09:37.797417Z"
    },
    "papermill": {
     "duration": 49.064238,
     "end_time": "2022-07-27T13:09:37.801581",
     "exception": false,
     "start_time": "2022-07-27T13:08:48.737343",
     "status": "completed"
    },
    "tags": []
   },
   "outputs": [],
   "source": [
    "test_df = (pd.read_parquet(\"../input/amex-data-integer-dtypes-parquet-format/test.parquet\")\n",
    "            .groupby(\"customer_ID\")\n",
    "           .tail(1)\n",
    "           .set_index(\"customer_ID\", drop = True)\n",
    "           .sort_index())"
   ]
  },
  {
   "cell_type": "code",
   "execution_count": 8,
   "id": "6eca4d80",
   "metadata": {
    "execution": {
     "iopub.execute_input": "2022-07-27T13:09:37.819782Z",
     "iopub.status.busy": "2022-07-27T13:09:37.818891Z",
     "iopub.status.idle": "2022-07-27T13:09:42.759373Z",
     "shell.execute_reply": "2022-07-27T13:09:42.758219Z"
    },
    "papermill": {
     "duration": 4.952589,
     "end_time": "2022-07-27T13:09:42.762077",
     "exception": false,
     "start_time": "2022-07-27T13:09:37.809488",
     "status": "completed"
    },
    "tags": []
   },
   "outputs": [],
   "source": [
    "test_df = test_df[features]\n",
    "y_pred = model.predict_proba(test_df)\n",
    "sub = pd.read_csv(\"../input/amex-default-prediction/sample_submission.csv\")\n",
    "sub = sub.sort_values(\"customer_ID\")"
   ]
  },
  {
   "cell_type": "code",
   "execution_count": 9,
   "id": "855a11a9",
   "metadata": {
    "execution": {
     "iopub.execute_input": "2022-07-27T13:09:42.782105Z",
     "iopub.status.busy": "2022-07-27T13:09:42.781297Z",
     "iopub.status.idle": "2022-07-27T13:09:45.542199Z",
     "shell.execute_reply": "2022-07-27T13:09:45.541047Z"
    },
    "papermill": {
     "duration": 2.774318,
     "end_time": "2022-07-27T13:09:45.544965",
     "exception": false,
     "start_time": "2022-07-27T13:09:42.770647",
     "status": "completed"
    },
    "tags": []
   },
   "outputs": [],
   "source": [
    "sub[\"prediction\"] = y_pred[:, 1]\n",
    "sub.to_csv(\"submission.csv\", index = False)"
   ]
  }
 ],
 "metadata": {
  "kernelspec": {
   "display_name": "Python 3",
   "language": "python",
   "name": "python3"
  },
  "language_info": {
   "codemirror_mode": {
    "name": "ipython",
    "version": 3
   },
   "file_extension": ".py",
   "mimetype": "text/x-python",
   "name": "python",
   "nbconvert_exporter": "python",
   "pygments_lexer": "ipython3",
   "version": "3.7.12"
  },
  "papermill": {
   "default_parameters": {},
   "duration": 715.117928,
   "end_time": "2022-07-27T13:09:46.681899",
   "environment_variables": {},
   "exception": null,
   "input_path": "__notebook__.ipynb",
   "output_path": "__notebook__.ipynb",
   "parameters": {},
   "start_time": "2022-07-27T12:57:51.563971",
   "version": "2.3.4"
  }
 },
 "nbformat": 4,
 "nbformat_minor": 5
}
